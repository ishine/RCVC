{
 "cells": [
  {
   "cell_type": "code",
   "execution_count": null,
   "source": [
    "# Restart kernel after installation\n",
    "import IPython\n",
    "IPython.Application.instance().kernel.do_shutdown(True)\n",
    "Todo"
   ],
   "outputs": [],
   "metadata": {}
  },
  {
   "cell_type": "code",
   "execution_count": null,
   "source": [
    "!git clone https://github.com/intory89/RCVC\n",
    "!pip3 install -q transformers\n",
    "\n",
    "from LMkor.examples.gpt3_generation import Inference\n",
    "inference = Inference('kykim/gpt3-kor-small_based_on_gpt2')"
   ],
   "outputs": [],
   "metadata": {}
  }
 ],
 "metadata": {
  "orig_nbformat": 4,
  "language_info": {
   "name": "python"
  }
 },
 "nbformat": 4,
 "nbformat_minor": 2
}